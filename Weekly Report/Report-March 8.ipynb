{
 "cells": [
  {
   "cell_type": "markdown",
   "source": [
    "# 1 Implement the overall framework for overall training"
   ],
   "metadata": {
    "collapsed": false
   },
   "id": "a4ec444906d6658b"
  },
  {
   "cell_type": "markdown",
   "source": [
    "# 2 Implement a new loss--positive focus loss"
   ],
   "metadata": {
    "collapsed": false
   },
   "id": "93384fee555baec7"
  },
  {
   "cell_type": "markdown",
   "source": [
    "Considering the segmentation is intensively unbalanced, It's important to "
   ],
   "metadata": {
    "collapsed": false
   },
   "id": "897031c5777a668a"
  },
  {
   "cell_type": "markdown",
   "source": [
    "# 3 Preliminary experiments"
   ],
   "metadata": {
    "collapsed": false
   },
   "id": "cc6d8e5354a7b535"
  },
  {
   "cell_type": "markdown",
   "source": [
    "## 3.1 Unet"
   ],
   "metadata": {
    "collapsed": false
   },
   "id": "b628f7143a3dfe07"
  },
  {
   "cell_type": "code",
   "outputs": [],
   "source": [
    "{\n",
    "  \"True Positive\": 19,\n",
    "  \"True Negative\": 221188,\n",
    "  \"False Positive\": 205346,\n",
    "  \"False Negative\": 7,\n",
    "  \"Accuracy\": 0.5185835521380345,\n",
    "  \"Precision\": 9.251819930367881e-05,\n",
    "  \"Recall/Sensitivity\": 0.7307692307692307,\n",
    "  \"Specificity\": 0.5185706180515504,\n",
    "  \"AUC ROC\": 0.6246699244103906,\n",
    "  \"IoU\": 9.25150458679859e-05,\n",
    "  \"F1\": {\n",
    "    \"both_sides\": {\n",
    "      \"score\": 0.00012986980551996623,\n",
    "      \"threshold\": 8.754784973799169e-17\n",
    "    },\n",
    "    \"nightside\": {\n",
    "      \"score\": 0.00011665344594279316,\n",
    "      \"threshold\": 6.516021056057753e-11\n",
    "    },\n",
    "    \"dayside\": {\n",
    "      \"score\": 0.0002339826351458631,\n",
    "      \"threshold\": 8.754784973799169e-17\n",
    "    }\n",
    "  },\n",
    "  \"F2\": {\n",
    "    \"both_sides\": {\n",
    "      \"score\": 0.0003246112779946015,\n",
    "      \"threshold\": 8.754784973799169e-17\n",
    "    },\n",
    "    \"nightside\": {\n",
    "      \"score\": 0.0002915111940298508,\n",
    "      \"threshold\": 6.516021056057753e-11\n",
    "    },\n",
    "    \"dayside\": {\n",
    "      \"score\": 0.0005847513553701058,\n",
    "      \"threshold\": 8.754784973799169e-17\n",
    "    }\n",
    "  }\n",
    "}"
   ],
   "metadata": {
    "collapsed": false
   },
   "id": "26c976da67b037a1"
  },
  {
   "cell_type": "markdown",
   "source": [
    "## 3.2 ViTUNet with focal loss"
   ],
   "metadata": {
    "collapsed": false
   },
   "id": "5502fff70d099906"
  },
  {
   "cell_type": "code",
   "outputs": [],
   "source": [
    "{\n",
    "  \"True Positive\": 17,\n",
    "  \"True Negative\": 8542,\n",
    "  \"False Positive\": 772691,\n",
    "  \"False Negative\": 0,\n",
    "  \"Accuracy\": 0.01095552,\n",
    "  \"Precision\": 2.2000548719568063e-05,\n",
    "  \"Recall/Sensitivity\": 1.0,\n",
    "  \"Specificity\": 0.010933997923794821,\n",
    "  \"AUC ROC\": 0.5054669989618974,\n",
    "  \"IoU\": 2.2000548719568063e-05,\n",
    "  \"F1\": {\n",
    "    \"both_sides\": {\n",
    "      \"score\": 4.400012941214533e-05,\n",
    "      \"threshold\": 1.8745653278529062e-06\n",
    "    },\n",
    "    \"nightside\": {\n",
    "      \"score\": 4.400012941214533e-05,\n",
    "      \"threshold\": 1.8745653278529062e-06\n",
    "    }\n",
    "  },\n",
    "  \"F2\": {\n",
    "    \"both_sides\": {\n",
    "      \"score\": 0.00010999306396678985,\n",
    "      \"threshold\": 1.8745653278529062e-06\n",
    "    },\n",
    "    \"nightside\": {\n",
    "      \"score\": 0.00010999306396678985,\n",
    "      \"threshold\": 1.8745653278529062e-06\n",
    "    }\n",
    "  }\n",
    "}"
   ],
   "metadata": {
    "collapsed": false
   },
   "id": "c96042f40b51a031"
  },
  {
   "cell_type": "markdown",
   "source": [
    "## 3.3 ViTUNet with l2 loss"
   ],
   "metadata": {
    "collapsed": false
   },
   "id": "113a34ca0614deed"
  },
  {
   "cell_type": "code",
   "outputs": [],
   "source": [
    "{\n",
    "  \"True Positive\": 9,\n",
    "  \"True Negative\": 414581,\n",
    "  \"False Positive\": 366652,\n",
    "  \"False Negative\": 8,\n",
    "  \"Accuracy\": 0.5306752,\n",
    "  \"Precision\": 2.454583389016012e-05,\n",
    "  \"Recall/Sensitivity\": 0.5294117647058824,\n",
    "  \"Specificity\": 0.5306752274929503,\n",
    "  \"AUC ROC\": 0.5300434960994163,\n",
    "  \"IoU\": 2.4545298348101422e-05,\n",
    "  \"F1\": {\n",
    "    \"both_sides\": {\n",
    "      \"score\": 4.9089391782435816e-05,\n",
    "      \"threshold\": 0.000678020529448986\n",
    "    },\n",
    "    \"nightside\": {\n",
    "      \"score\": 4.9089391782435816e-05,\n",
    "      \"threshold\": 0.000678020529448986\n",
    "    }\n",
    "  },\n",
    "  \"F2\": {\n",
    "    \"both_sides\": {\n",
    "      \"score\": 0.00012270641263712438,\n",
    "      \"threshold\": 0.000678020529448986\n",
    "    },\n",
    "    \"nightside\": {\n",
    "      \"score\": 0.00012270641263712438,\n",
    "      \"threshold\": 0.000678020529448986\n",
    "    }\n",
    "  }\n",
    "}"
   ],
   "metadata": {
    "collapsed": false
   },
   "id": "7b93532ac01851cd"
  },
  {
   "cell_type": "markdown",
   "source": [
    "## 3.4 ViTUNet with focal loss + l2 loss"
   ],
   "metadata": {
    "collapsed": false
   },
   "id": "dbcfd07e5dac466f"
  },
  {
   "cell_type": "code",
   "outputs": [],
   "source": [
    "{\n",
    "  \"True Positive\": 17,\n",
    "  \"True Negative\": 6170,\n",
    "  \"False Positive\": 775063,\n",
    "  \"False Negative\": 0,\n",
    "  \"Accuracy\": 0.00791936,\n",
    "  \"Precision\": 2.193321979666615e-05,\n",
    "  \"Recall/Sensitivity\": 1.0,\n",
    "  \"Specificity\": 0.007897771855515576,\n",
    "  \"AUC ROC\": 0.5039488859277578,\n",
    "  \"IoU\": 2.193321979666615e-05,\n",
    "  \"F1\": {\n",
    "    \"both_sides\": {\n",
    "      \"score\": 4.38654774821732e-05,\n",
    "      \"threshold\": 1.922954879773897e-07\n",
    "    },\n",
    "    \"nightside\": {\n",
    "      \"score\": 4.38654774821732e-05,\n",
    "      \"threshold\": 1.922954879773897e-07\n",
    "    }\n",
    "  },\n",
    "  \"F2\": {\n",
    "    \"both_sides\": {\n",
    "      \"score\": 0.00010965647850475006,\n",
    "      \"threshold\": 1.922954879773897e-07\n",
    "    },\n",
    "    \"nightside\": {\n",
    "      \"score\": 0.00010965647850475006,\n",
    "      \"threshold\": 1.922954879773897e-07\n",
    "    }\n",
    "  }\n",
    "}"
   ],
   "metadata": {
    "collapsed": false
   },
   "id": "a104e69b9222d6ee"
  },
  {
   "cell_type": "markdown",
   "source": [
    "## 3.5 ViTUNet with positive focus loss"
   ],
   "metadata": {
    "collapsed": false
   },
   "id": "f2e27a9f159b9e0"
  },
  {
   "cell_type": "code",
   "outputs": [],
   "source": [
    "{\n",
    "  \"True Positive\": 1,\n",
    "  \"True Negative\": 770664,\n",
    "  \"False Positive\": 10569,\n",
    "  \"False Negative\": 16,\n",
    "  \"Accuracy\": 0.9864512,\n",
    "  \"Precision\": 9.46073793755913e-05,\n",
    "  \"Recall/Sensitivity\": 0.058823529411764705,\n",
    "  \"Specificity\": 0.986471385617351,\n",
    "  \"AUC ROC\": 0.5226474575145579,\n",
    "  \"IoU\": 9.446438692612885e-05,\n",
    "  \"F1\": {\n",
    "    \"both_sides\": {\n",
    "      \"score\": 0.00018891092849721356,\n",
    "      \"threshold\": 8.089678885880858e-05\n",
    "    },\n",
    "    \"nightside\": {\n",
    "      \"score\": 0.00018891092849721356,\n",
    "      \"threshold\": 8.089678885880858e-05\n",
    "    }\n",
    "  },\n",
    "  \"F2\": {\n",
    "    \"both_sides\": {\n",
    "      \"score\": 0.0004700131603684903,\n",
    "      \"threshold\": 8.089678885880858e-05\n",
    "    },\n",
    "    \"nightside\": {\n",
    "      \"score\": 0.0004700131603684903,\n",
    "      \"threshold\": 8.089678885880858e-05\n",
    "    }\n",
    "  }\n",
    "}"
   ],
   "metadata": {
    "collapsed": false
   },
   "id": "93f01e2204ee7f15"
  }
 ],
 "metadata": {
  "kernelspec": {
   "display_name": "Python 3",
   "language": "python",
   "name": "python3"
  },
  "language_info": {
   "codemirror_mode": {
    "name": "ipython",
    "version": 2
   },
   "file_extension": ".py",
   "mimetype": "text/x-python",
   "name": "python",
   "nbconvert_exporter": "python",
   "pygments_lexer": "ipython2",
   "version": "2.7.6"
  }
 },
 "nbformat": 4,
 "nbformat_minor": 5
}
